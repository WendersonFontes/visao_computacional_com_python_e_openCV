{
 "cells": [
  {
   "cell_type": "code",
   "execution_count": null,
   "id": "c9ad77d6-65d5-494b-9800-8a39a7e2d3b6",
   "metadata": {},
   "outputs": [],
   "source": [
    "!pip install dlib"
   ]
  },
  {
   "cell_type": "code",
   "execution_count": null,
   "id": "afedd942-3eb1-4292-bd5f-fb09a49c873a",
   "metadata": {},
   "outputs": [],
   "source": [
    "!pip install imutils"
   ]
  },
  {
   "cell_type": "code",
   "execution_count": null,
   "id": "7f1c14a3-95c8-4a00-853e-91786683b09b",
   "metadata": {},
   "outputs": [],
   "source": [
    "from imutils import face_utils\n",
    "import dlib\n",
    "import cv2"
   ]
  },
  {
   "cell_type": "code",
   "execution_count": null,
   "id": "986fe9e8-e71d-4899-b4f0-7f0b26c80ac0",
   "metadata": {},
   "outputs": [],
   "source": [
    "#Repositorio das faces\n",
    "p = \"shape_predictor_68_face_landmarks.dat\"\n",
    "detector = dlib.get_frontal_face_detector()\n",
    "predictor = dlib.shape_predictor(p)\n",
    "\n",
    "cap = cv2.VideoCapture(0)"
   ]
  },
  {
   "cell_type": "code",
   "execution_count": null,
   "id": "9695b4ac-6514-4cf6-8670-b47576f58be3",
   "metadata": {},
   "outputs": [],
   "source": [
    "while True:\n",
    "    ret, frame = cap.read()\n",
    "    gray = cv2.cvtColor(frame, cv2.COLOR_BGR2GRAY)\n",
    "\n",
    "    # Detectando as faces\n",
    "    rects = detector(gray, 0)\n",
    "\n",
    "    # Encontrando os keypoints.\n",
    "    for (i, rect) in enumerate(rects):\n",
    "\n",
    "    # Predicao e array do numpy.\n",
    "        shape = predictor(gray, rect)\n",
    "        for j in range(1,68):\n",
    "            cv2.putText(frame, str(j), (shape.part(j).x, shape.part(j).y), fontFace=cv2.FONT_HERSHEY_SCRIPT_SIMPLEX, fontScale=0.3, color=(0,0,255))\n",
    "            cv2.imshow(\"Frame\", frame)\n",
    "\n",
    "    k = cv2.waitKey(5) & 0xFF\n",
    "    if k == 27:\n",
    "        break\n",
    "\n",
    "cv2.destroyAllWindows()\n",
    "cap.release()"
   ]
  }
 ],
 "metadata": {
  "kernelspec": {
   "display_name": "Python 3 (ipykernel)",
   "language": "python",
   "name": "python3"
  },
  "language_info": {
   "codemirror_mode": {
    "name": "ipython",
    "version": 3
   },
   "file_extension": ".py",
   "mimetype": "text/x-python",
   "name": "python",
   "nbconvert_exporter": "python",
   "pygments_lexer": "ipython3",
   "version": "3.12.3"
  }
 },
 "nbformat": 4,
 "nbformat_minor": 5
}
