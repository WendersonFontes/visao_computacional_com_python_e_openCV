{
 "cells": [
  {
   "cell_type": "code",
   "execution_count": 5,
   "metadata": {},
   "outputs": [],
   "source": [
    "import cv2\n",
    "\n",
    "cap = cv2.VideoCapture(0)\n",
    "\n",
    "# Callback retangulo\n",
    "def draw_rect(event, x, y, flags, params): #params = parametros\n",
    "    global pt1, pt2, topLeftClicked, bottomRightClicked\n",
    "    if event == cv2.EVENT_LBUTTONDOWN:\n",
    "        if topLeftClicked == True and bottomRightClicked == True:\n",
    "            pt1 = (0, 0)\n",
    "            pt2 = (0, 0)\n",
    "            topLeftClicked = False\n",
    "            bottomRightClicked = False\n",
    "\n",
    "        if topLeftClicked == False:\n",
    "            pt1 = (x, y)\n",
    "            topLeftClicked = True\n",
    "        elif bottomRightClicked == False:\n",
    "            pt2 = (x, y)\n",
    "            bottomRightClicked = True\n",
    "    \n",
    "## Variaveis Globais\n",
    "pt1 = (0,0)\n",
    "pt2 = (0,0)\n",
    "topLeftClicked = False\n",
    "bottomRightClicked = False\n",
    "\n",
    "cv2.namedWindow('Teste')\n",
    "cv2.setMouseCallback('Teste', draw_rect)\n",
    "\n",
    "while True:\n",
    "    ret, frame = cap.read()\n",
    "    \n",
    "    ## Desenhar o retangulo de acordo com as variaveis globais\n",
    "    if topLeftClicked:\n",
    "        cv2.circle(frame, center=pt1, radius=5, color=(0,0,255))\n",
    "    if topLeftClicked and bottomRightClicked:\n",
    "        cv2.rectangle(frame, pt1, pt2, color = (0,0,255), thickness = 1)\n",
    "\n",
    "    cv2.imshow('Teste', frame)\n",
    " \n",
    "\n",
    "    if cv2.waitKey(1) & 0xFF == ord('q'):\n",
    "        break\n",
    "cap.release()\n",
    "cv2.destroyAllWindows()\n"
   ]
  },
  {
   "cell_type": "code",
   "execution_count": null,
   "metadata": {},
   "outputs": [],
   "source": []
  },
  {
   "cell_type": "code",
   "execution_count": null,
   "metadata": {},
   "outputs": [],
   "source": []
  }
 ],
 "metadata": {
  "kernelspec": {
   "display_name": "Python 3 (ipykernel)",
   "language": "python",
   "name": "python3"
  },
  "language_info": {
   "codemirror_mode": {
    "name": "ipython",
    "version": 3
   },
   "file_extension": ".py",
   "mimetype": "text/x-python",
   "name": "python",
   "nbconvert_exporter": "python",
   "pygments_lexer": "ipython3",
   "version": "3.12.3"
  }
 },
 "nbformat": 4,
 "nbformat_minor": 4
}
