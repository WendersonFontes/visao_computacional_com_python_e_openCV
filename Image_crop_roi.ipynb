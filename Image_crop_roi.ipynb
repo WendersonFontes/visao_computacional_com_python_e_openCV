{
 "cells": [
  {
   "cell_type": "markdown",
   "metadata": {},
   "source": [
    "# ROI de uma Imagem:\n",
    "\n",
    "\n",
    "Um conceito importante em processamento de imagens é a **Região de Interesse**. Entende-se como Região de Interesse (ROI - \"Region Of Interest\" ou AOI - \"Area Of Interest\") a região obtida de maneira automática ou a partir da interação de um usuário onde o processamento estará totalmente concentrado. \n",
    "\n",
    "### Objetivos:\n",
    "\n",
    "1. Obter um ROI de uma imagem a partir da área selecionada pelo mouse\n",
    "\n"
   ]
  },
  {
   "cell_type": "code",
   "execution_count": null,
   "metadata": {},
   "outputs": [],
   "source": [
    "# Bibliotecas\n",
    "import cv2\n",
    "import numpy as np\n",
    "\n",
    "# Imagem teste\n",
    "image = cv2.imread('lena.png')\n",
    "image_to_show = np.copy(image)\n",
    "\n",
    "# Estados iniciais do mouse\n",
    "cropping = False\n",
    "x_init, y_init, top_left_pt, bottom_right_pt = 0, 0, 0, 0\n",
    "\n",
    "\n",
    "def roi(event, x, y, flags, param):\n",
    "    global image_to_show, x_init, y_init, top_left_pt, bottom_right_pt, cropping\n",
    "\n",
    "    if event == cv2.EVENT_LBUTTONDOWN:\n",
    "        cropping = True\n",
    "        x_init, y_init = x, y\n",
    "        image_to_show = np.copy(image)\n",
    "        print(f'Ponto inicial em X {x_init}')\n",
    "        print(f'Ponto inicial em Y {y_init}')\n",
    "\n",
    "    elif event == cv2.EVENT_MOUSEMOVE:\n",
    "        if cropping == True:\n",
    "            image_to_show = np.copy(image)\n",
    "            cv2.rectangle(image_to_show, (x_init, y_init),\n",
    "                          (x, y), (0, 255, 0), 1)\n",
    "\n",
    "    elif event == cv2.EVENT_LBUTTONUP:\n",
    "        cropping = False\n",
    "        top_left_pt, bottom_right_pt = x, y\n",
    "        print(f'Ponto superior {top_left_pt}')\n",
    "        print(f'Ponto inferior {bottom_right_pt}')\n",
    "\n",
    "\n",
    "cv2.namedWindow('image')\n",
    "cv2.setMouseCallback('image', roi)\n",
    "\n",
    "while True:\n",
    "\n",
    "    cv2.imshow('image', image_to_show)\n",
    "    k = cv2.waitKey(1)\n",
    "\n",
    "    if k == ord('c'):\n",
    "        if y_init > bottom_right_pt:\n",
    "            y_init, bottom_right_pt = bottom_right_pt, y_init\n",
    "        if x_init > top_left_pt:\n",
    "            x_init, top_left_pt = top_left_pt, x_init\n",
    "\n",
    "        if bottom_right_pt - y_init > 1 and top_left_pt - x_init > 0:\n",
    "            image = image[y_init:bottom_right_pt, x_init:top_left_pt]\n",
    "            print(image)\n",
    "            image_to_show = np.copy(image)\n",
    "\n",
    "    if k == ord('s'):\n",
    "        cv2.imwrite('teste.jpg', image_to_show)\n",
    "\n",
    "    if cv2.waitKey(1) == ord('q'):\n",
    "        break\n",
    "\n",
    "cv2.destroyAllWindows()\n"
   ]
  },
  {
   "cell_type": "code",
   "execution_count": null,
   "metadata": {},
   "outputs": [],
   "source": []
  }
 ],
 "metadata": {
  "kernelspec": {
   "display_name": "Python 3 (ipykernel)",
   "language": "python",
   "name": "python3"
  },
  "language_info": {
   "codemirror_mode": {
    "name": "ipython",
    "version": 3
   },
   "file_extension": ".py",
   "mimetype": "text/x-python",
   "name": "python",
   "nbconvert_exporter": "python",
   "pygments_lexer": "ipython3",
   "version": "3.12.3"
  }
 },
 "nbformat": 4,
 "nbformat_minor": 4
}
