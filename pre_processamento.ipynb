import cv2 as cv
import numpy as np
from matplotlib import pyplot as plt
%matplotlib inline

img = cv.imread("Cinza.jpg")

plt.imshow(img)

plt.hist(img.ravel(), 256, [0, 256])
plt.show
