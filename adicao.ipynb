{
 "cells": [
  {
   "cell_type": "code",
   "execution_count": 1,
   "id": "defc0023-4d14-48f8-b954-f1480fb346b6",
   "metadata": {},
   "outputs": [],
   "source": [
    "import cv2 as cv\n",
    "from matplotlib import pyplot as plt"
   ]
  },
  {
   "cell_type": "code",
   "execution_count": 2,
   "id": "a22c8ed3-10cc-4e50-8f8d-4acf735a4b8a",
   "metadata": {},
   "outputs": [],
   "source": [
    "img1 = cv.imread('Superman.png', 0)"
   ]
  },
  {
   "cell_type": "code",
   "execution_count": 3,
   "id": "b95f758f-6eaf-422d-8913-6cb8b3ae62c8",
   "metadata": {},
   "outputs": [],
   "source": [
    "img2 = cv.imread('batman.png', 0)"
   ]
  },
  {
   "cell_type": "code",
   "execution_count": 4,
   "id": "8cb19703-46f6-49b2-8dc9-a9ce1833baae",
   "metadata": {},
   "outputs": [
    {
     "ename": "NameError",
     "evalue": "name 'img' is not defined",
     "output_type": "error",
     "traceback": [
      "\u001b[1;31m---------------------------------------------------------------------------\u001b[0m",
      "\u001b[1;31mNameError\u001b[0m                                 Traceback (most recent call last)",
      "Cell \u001b[1;32mIn[4], line 1\u001b[0m\n\u001b[1;32m----> 1\u001b[0m imgsomada \u001b[38;5;241m=\u001b[39m cv\u001b[38;5;241m.\u001b[39madd(\u001b[43mimg\u001b[49m, img2)\n",
      "\u001b[1;31mNameError\u001b[0m: name 'img' is not defined"
     ]
    }
   ],
   "source": [
    "imgsomada = cv.add(img1, img2)"
   ]
  },
  {
   "cell_type": "code",
   "execution_count": null,
   "id": "653bea13-1a20-4134-91ee-f5ec8837bbb1",
   "metadata": {},
   "outputs": [],
   "source": [
    "fig = plt.figure(figsize=(20,5))\n",
    "plt.imshow(imgsomada, cmap=plt.cm.gray)"
   ]
  }
 ],
 "metadata": {
  "kernelspec": {
   "display_name": "Python 3 (ipykernel)",
   "language": "python",
   "name": "python3"
  },
  "language_info": {
   "codemirror_mode": {
    "name": "ipython",
    "version": 3
   },
   "file_extension": ".py",
   "mimetype": "text/x-python",
   "name": "python",
   "nbconvert_exporter": "python",
   "pygments_lexer": "ipython3",
   "version": "3.12.3"
  }
 },
 "nbformat": 4,
 "nbformat_minor": 5
}
