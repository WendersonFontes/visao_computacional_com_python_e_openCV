{
 "cells": [
  {
   "cell_type": "code",
   "execution_count": null,
   "metadata": {
    "id": "sQqWDzKwt1gy"
   },
   "outputs": [],
   "source": [
    "import cv2 as cv\n",
    "import numpy as np\n",
    "from matplotlib import pyplot as plt\n"
   ]
  },
  {
   "cell_type": "code",
   "execution_count": 2,
   "metadata": {
    "id": "iYEFGP6bNMg6"
   },
   "outputs": [],
   "source": [
    "imgOriginal = cv.imread(\"einstein.jpg\")"
   ]
  },
  {
   "cell_type": "code",
   "execution_count": 3,
   "metadata": {
    "id": "HajkEAiGMf_p"
   },
   "outputs": [],
   "source": [
    "imgModificada = cv.resize(imgOriginal,\n",
    "                          None,\n",
    "                          fx = 0.8,\n",
    "                          fy = 0.8,\n",
    "                          interpolation = cv.INTER_CUBIC) #tem que ser em maiúsculo"
   ]
  },
  {
   "cell_type": "code",
   "execution_count": 4,
   "metadata": {
    "colab": {
     "base_uri": "https://localhost:8080/",
     "height": 193
    },
    "id": "cXuA0J36Mwvj",
    "outputId": "816c03c2-cae7-4e8b-d0a2-51ed90267eb6"
   },
   "outputs": [],
   "source": [
    "cv.imshow(\"Imagem Original\", imgOriginal)\n",
    "cv.imshow(\"Imagem Modificada\", imgModificada)\n",
    "cv.waitKey(0)\n",
    "cv.destroyAllWindows()"
   ]
  }
 ],
 "metadata": {
  "colab": {
   "provenance": []
  },
  "kernelspec": {
   "display_name": "Python 3 (ipykernel)",
   "language": "python",
   "name": "python3"
  },
  "language_info": {
   "codemirror_mode": {
    "name": "ipython",
    "version": 3
   },
   "file_extension": ".py",
   "mimetype": "text/x-python",
   "name": "python",
   "nbconvert_exporter": "python",
   "pygments_lexer": "ipython3",
   "version": "3.12.3"
  }
 },
 "nbformat": 4,
 "nbformat_minor": 4
}
